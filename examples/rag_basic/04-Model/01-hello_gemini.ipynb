{
 "cells": [
  {
   "cell_type": "markdown",
   "id": "cc4fd9b3",
   "metadata": {},
   "source": [
    "## Gemini 환경 설정\n",
    "- uv 설치\n",
    "- uv를 이용한 가상 환경 생성 및 활성화\n",
    "- Gemini API Key 발급\n",
    "- API Key는 .env에 저장\n",
    "- langchain-google-genai 패키지 설치\n",
    "\n",
    "```powershell\n",
    "    uv add langchain-google-genai python-dotenv\n",
    "    $env:PATH += \";$env:USERPROFILE\\.local\\bin\"\n",
    "```\n",
    "\n",
    "<img src=\"images/google_ai_studio.png\" alt=\"Google AI Studio\">"
   ]
  }
 ],
 "metadata": {
  "kernelspec": {
   "display_name": "rag_basic",
   "language": "python",
   "name": "python3"
  },
  "language_info": {
   "name": "python",
   "version": "3.13.5"
  }
 },
 "nbformat": 4,
 "nbformat_minor": 5
}
