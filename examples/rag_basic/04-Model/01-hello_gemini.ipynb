{
 "cells": [
  {
   "cell_type": "markdown",
   "id": "cc4fd9b3",
   "metadata": {},
   "source": [
    "# 01. Gemini Model\n",
    "## Gemini 환경 설정\n",
    "### uv 설치\n",
    "- vs code 또는 cursor의 agent 기능을 사용하여 처리하면 편하게 설치 가능\n",
    "- path 설정 필요\n"
   ]
  },
  {
   "cell_type": "markdown",
   "id": "3c487e83",
   "metadata": {},
   "source": [
    "### uv를 이용한 가상 환경 생성 및 활성화\n",
    "- 이전 자료 참고 (https://docs.google.com/presentation/d/1IP_Jr4ZJCanAS3mffSmA0w0dc_N7e29i6x39rDyx9yo/edit?usp=sharing)\n",
    "```powershell\n",
    "    uv venv .venv\n",
    "    .venv\\Scripts\\activate\n",
    "```\n",
    "- editor의 agent를 활용하면 간편히 진행 가능"
   ]
  },
  {
   "cell_type": "markdown",
   "id": "86d87a98",
   "metadata": {},
   "source": [
    "### Gemini API Key 발급\n",
    "- `Google AI Studio`에서 API Key 생성 및 발급\n",
    "\n",
    "<img src=\"images/google_ai_studio.png\" alt=\"Google AI Studio\">\n",
    "\n",
    "- API Key는 .env에 저장\n",
    "- .env 파일 생성 후 `GOOGLE_API_KEY`에 입력\n",
    "\n",
    "<img src=\"images/google_gemini_api_key_to_env.png\" alt=\"Gemini API Key to .env\">\n",
    "\n",
    "\n",
    "- .env 파일은 git을 통해 공유되지 않도록 반드시 `.gitignore`에 추가 할 것\n",
    "\n",
    "<img src=\"images/ignore_env.png\" alt=\"gitignore for .env\">"
   ]
  },
  {
   "cell_type": "markdown",
   "id": "defb7653",
   "metadata": {},
   "source": [
    "\n",
    "### langchain-google-genai 패키지 설치\n",
    "\n",
    "- editor의 agent를 사용하여 패키지 설치 진행.\n",
    "\n",
    "```powershell\n",
    "    uv add langchain-google-genai python-dotenv\n",
    "    $env:PATH += \";$env:USERPROFILE\\.local\\bin\"\n",
    "```"
   ]
  },
  {
   "cell_type": "markdown",
   "id": "9cf8937e",
   "metadata": {},
   "source": [
    "### Select Kernel을 통해 python kernel 지정\n",
    "\n",
    "- python kernel을 선택\n",
    "\n",
    "<img src=\"images/select_kernel.png\" alt=\"Select Kernel\">\n",
    "\n",
    "- 가상 환경을 선택\n",
    "\n",
    "<img src=\"images/select_kernel2.png\" alt=\"Select Kernel\">\n",
    "\n"
   ]
  },
  {
   "cell_type": "markdown",
   "id": "9018de6c",
   "metadata": {},
   "source": [
    "### ipykernel 설치\n",
    "\n",
    "#### ipykernel이란?\n",
    "- **IPython Kernel**: Jupyter Notebook에서 Python 코드를 실행하는 핵심 구성요소\n",
    "- VS Code, Jupyter Lab, Jupyter Notebook에서 Python 코드 셀을 실행할 때 필요\n",
    "\n",
    "#### 왜 설치해야 하나?\n",
    "1. **가상환경에서 Jupyter 사용**\n",
    "   - 가상환경(.venv)에 ipykernel이 없으면 코드 셀 실행 불가\n",
    "   - VS Code에서 \"Select Kernel\" 시 가상환경이 목록에 나타나지 않음\n",
    "\n",
    "2. **패키지 격리**\n",
    "   - 각 프로젝트별로 독립된 Python 환경 유지\n",
    "   - 프로젝트에 설치한 패키지들을 Jupyter에서 사용 가능\n",
    "\n",
    "3. **VS Code Jupyter 확장 호환성**\n",
    "   - VS Code의 Jupyter 확장이 Python 코드를 실행하려면 kernel 필요\n",
    "   - ipykernel이 Python 인터프리터와 Jupyter 사이의 브릿지 역할\n",
    "\n",
    "#### 설치 명령어\n",
    "```powershell\n",
    "uv add ipykernel\n",
    "# 또는\n",
    "uv pip install ipykernel\n",
    "```\n",
    "\n",
    "#### 설치 후 확인\n",
    "- VS Code에서 \"Select Kernel\" → 가상환경(.venv) 선택 가능\n",
    "- Python 코드 셀이 정상적으로 실행됨"
   ]
  },
  {
   "cell_type": "markdown",
   "id": "1c6e1237",
   "metadata": {},
   "source": [
    "## Gemini 사용 간단 예제"
   ]
  },
  {
   "cell_type": "code",
   "execution_count": null,
   "id": "5faa2aec",
   "metadata": {},
   "outputs": [],
   "source": [
    "# ---------------------------------------------------------------------\n",
    "# Gemini API 사용 기본 예제 `hello_gemini` (Python, LangChain)\n",
    "# - Google Gemini API를 LangChain을 통해 호출\n",
    "# - 할당량 초과 시 자동 재시도 기능 포함 \n",
    "# ---------------------------------------------------------------------\n",
    "import time\n",
    "from dotenv import load_dotenv\n",
    "from langchain_google_genai import ChatGoogleGenerativeAI\n",
    "\n",
    "load_dotenv()\n",
    "\n",
    "# 올바른 모델명 사용 (gemini-1.5-pro 또는 gemini-1.5-flash)\n",
    "chat = ChatGoogleGenerativeAI(model=\"gemini-1.5-flash\")  # flash는 더 빠르고 저렴\n",
    "\n",
    "def call_gemini_with_retry(prompt, max_retries=3, base_delay=60):\n",
    "    \"\"\"할당량 초과 시 자동 재시도하는 함수\"\"\"\n",
    "    for attempt in range(max_retries):\n",
    "        try:\n",
    "            response = chat.invoke(prompt)\n",
    "            return response\n",
    "        except Exception as e:\n",
    "            error_str = str(e)\n",
    "            if \"429\" in error_str and \"quota\" in error_str.lower():\n",
    "                if attempt < max_retries - 1:\n",
    "                    wait_time = base_delay * (2 ** attempt)  # 지수적 백오프\n",
    "                    print(f\"할당량 초과 (시도 {attempt + 1}/{max_retries}). {wait_time}초 후 재시도...\")\n",
    "                    time.sleep(wait_time)\n",
    "                else:\n",
    "                    print(\"최대 재시도 횟수 초과. 나중에 다시 시도해주세요.\")\n",
    "                    raise e\n",
    "            else:\n",
    "                print(f\"API 호출 중 오류: {e}\")\n",
    "                raise e\n",
    "\n",
    "# 간단한 질문으로 테스트 (토큰 수 절약)\n",
    "try:\n",
    "    response = call_gemini_with_retry(\"주식 투자를 이용해서 20 퍼센트의 수익을 낼 수 있는 방법을 알려주세요.\")\n",
    "    print(\"성공적으로 응답을 받았습니다:\")\n",
    "    print(response.content)\n",
    "except Exception as e:\n",
    "    print(f\"최종 오류: {e}\")\n",
    "    print(\"\\n해결 방법:\")\n",
    "    print(\"1. 1시간 후 다시 시도\")\n",
    "    print(\"2. 더 짧은 질문 사용\")\n",
    "    print(\"3. gemini-1.5-flash 모델 사용 (더 저렴)\")\n",
    "    print(\"4. Google Cloud Console에서 결제 정보 등록\")"
   ]
  },
  {
   "cell_type": "markdown",
   "id": "42ad9a71",
   "metadata": {},
   "source": [
    "### Gemini API 할당량 초과 오류 (429 Error) 해결 방법\n",
    "\n",
    "#### 오류 원인\n",
    "- **429 ResourceExhausted**: 무료 할당량 초과\n",
    "- 1분당 요청 수, 1일 요청 수, 입력 토큰 수 제한 초과\n",
    "\n",
    "#### 해결 방법\n",
    "\n",
    "1. **즉시 해결**\n",
    "   - 잠시 기다렸다가 재시도 (에러 메시지의 retry_delay 시간만큼)\n",
    "   - 더 짧은 프롬프트 사용\n",
    "   - `gemini-1.5-flash` 모델 사용 (더 저렴하고 빠름)\n",
    "\n",
    "2. **장기적 해결**\n",
    "   - Google Cloud Console에서 결제 정보 등록\n",
    "   - 유료 플랜으로 업그레이드\n",
    "   - API 사용량 모니터링\n",
    "\n",
    "3. **개발 시 권장사항**\n",
    "   - 테스트용으로는 간단한 질문 사용\n",
    "   - 요청 간격을 충분히 두기\n",
    "   - 재시도 로직 구현"
   ]
  },
  {
   "cell_type": "markdown",
   "id": "9a72d552",
   "metadata": {},
   "source": [
    "### 💡Gemini CLI 활용법 검토\n",
    "- Gemini CLI의 경우 무료 제공 토큰량이 많고 100만 컨텍스트 윈도우를 지원함\n",
    "- Gemini 2.5 Pro / Flash 모델 무료로 사용 가능 (일일 1,000회 / 분당 60회 요청 가능)\n",
    "- 최대 100만 토큰 컨텍스트\n",
    "- Python의 subprocess로 연동 시도 했지만 제대로 안됨. \n",
    "- Google AI API 사용을 권장"
   ]
  }
 ],
 "metadata": {
  "kernelspec": {
   "display_name": ".venv",
   "language": "python",
   "name": "python3"
  },
  "language_info": {
   "codemirror_mode": {
    "name": "ipython",
    "version": 3
   },
   "file_extension": ".py",
   "mimetype": "text/x-python",
   "name": "python",
   "nbconvert_exporter": "python",
   "pygments_lexer": "ipython3",
   "version": "3.13.5"
  }
 },
 "nbformat": 4,
 "nbformat_minor": 5
}
